{
 "cells": [
  {
   "cell_type": "code",
   "execution_count": 1,
   "metadata": {},
   "outputs": [
    {
     "name": "stdout",
     "output_type": "stream",
     "text": [
      "PPM (92, 112) L\n"
     ]
    },
    {
     "data": {
      "image/png": "[encoded data removed]",
      "text/plain": [
       "<PIL.PpmImagePlugin.PpmImageFile image mode=L size=92x112 at 0x7F224CAA6D30>"
      ]
     },
     "metadata": {},
     "output_type": "display_data"
    }
   ],
   "source": [
    "# Loading and displaying an image\n",
    "from PIL import Image\n",
    "img = Image.open('/home/dvveera/db/orl/s1/1.pgm')\n",
    "print(img.format, img.size, img.mode)\n",
    "display(img)"
   ]
  },
  {
   "cell_type": "code",
   "execution_count": 2,
   "metadata": {},
   "outputs": [
    {
     "name": "stdout",
     "output_type": "stream",
     "text": [
      "Separated Training, Validation and Test Data\n"
     ]
    }
   ],
   "source": [
    "# Creating training, validation and test datasets\n",
    "import os\n",
    "import shutil\n",
    "\n",
    "def copy_data(dir_s, fname):\n",
    "    os.chdir(dir_s + '/' + fname)\n",
    "    dir_train = dir_s + '/train/' + fname\n",
    "    dir_valid = dir_s + '/valid/' + fname\n",
    "    dir_test = dir_s + '/test/' + fname\n",
    "    if not os.path.exists(dir_train):\n",
    "        os.makedirs(dir_train)\n",
    "    if not os.path.exists(dir_valid):\n",
    "        os.makedirs(dir_valid)\n",
    "    if not os.path.exists(dir_test):\n",
    "        os.makedirs(dir_test)\n",
    "    i = 1\n",
    "    for filename in os.listdir(dir_s + '/' + fname):\n",
    "        if i <= 6:\n",
    "            shutil.copy(dir_s + '/' + fname + '/' + str(i) + '.pgm', dir_train)\n",
    "        elif i <= 8:\n",
    "            shutil.copy(dir_s + '/' + fname + '/' + str(i) + '.pgm', dir_valid)\n",
    "        else:\n",
    "            shutil.copy(dir_s + '/' + fname + '/' + str(i) + '.pgm', dir_test)\n",
    "        i = i + 1\n",
    "\n",
    "dir_src = '/home/dvveera/db/orl'\n",
    "os.chdir(dir_src)\n",
    "for filename in os.listdir(dir_src):\n",
    "    if filename.startswith('s'):\n",
    "        copy_data(dir_src, filename)\n",
    "print('Separated Training, Validation and Test Data')"
   ]
  },
  {
   "cell_type": "code",
   "execution_count": 3,
   "metadata": {},
   "outputs": [
    {
     "name": "stdout",
     "output_type": "stream",
     "text": [
      "Assigned Labels to Training, Validation and Test Data\n"
     ]
    }
   ],
   "source": [
    "# Assign Labels\n",
    "def assign_addr_label(path):\n",
    "    dirs = os.listdir(path)\n",
    "    addrs = []\n",
    "    labels = []\n",
    "    for d in dirs:\n",
    "        os.chdir(path + '/' + d)\n",
    "        addr = glob.glob(path + '/' + d + '/' + '*')\n",
    "        label = [d for i in range(len(addr))]\n",
    "        addrs.extend(addr)\n",
    "        labels.extend(label)\n",
    "    return list(zip(addrs, labels))\n",
    "\n",
    "import glob\n",
    "train_path = '/home/dvveera/db/orl/train'\n",
    "train_data = assign_addr_label(train_path)\n",
    "train_addrs, train_labels = zip(*train_data)\n",
    "valid_path = '/home/dvveera/db/orl/valid'\n",
    "valid_data = assign_addr_label(valid_path)\n",
    "valid_addrs, valid_labels = zip(*valid_data)\n",
    "test_path = '/home/dvveera/db/orl/test'\n",
    "test_data = assign_addr_label(test_path)\n",
    "test_addrs, test_labels = zip(*test_data)\n",
    "print('Assigned Labels to Training, Validation and Test Data')"
   ]
  },
  {
   "cell_type": "code",
   "execution_count": 4,
   "metadata": {},
   "outputs": [
    {
     "name": "stdout",
     "output_type": "stream",
     "text": [
      "Train data: 20/240\n",
      "Train data: 40/240\n",
      "Train data: 60/240\n",
      "Train data: 80/240\n",
      "Train data: 100/240\n",
      "Train data: 120/240\n",
      "Train data: 140/240\n",
      "Train data: 160/240\n",
      "Train data: 180/240\n",
      "Train data: 200/240\n",
      "Train data: 220/240\n",
      "Valid data: 20/80\n",
      "Valid data: 40/80\n",
      "Valid data: 60/80\n",
      "Test data: 20/80\n",
      "Test data: 40/80\n",
      "Test data: 60/80\n"
     ]
    }
   ],
   "source": [
    "# Load images and save them\n",
    "import numpy as np\n",
    "train_storage = []\n",
    "valid_storage = []\n",
    "test_storage = []\n",
    "mean_storage = []\n",
    "# Training Images\n",
    "for i in range(len(train_addrs)):\n",
    "    if i % 20 == 0 and i > 1:\n",
    "        print('Train data: {}/{}'.format(i, len(train_addrs)))\n",
    "    addr = train_addrs[i]\n",
    "    img = Image.open(addr)\n",
    "    img = np.array(img)\n",
    "    train_storage.append(img)\n",
    "    # print(np.array(img))\n",
    "    mean_storage.append(np.sum(img) / float(len(train_labels)))\n",
    "# print(train_storage)\n",
    "# Validation Images\n",
    "for i in range(len(valid_addrs)):\n",
    "    if i % 20 == 0 and i > 1:\n",
    "        print('Valid data: {}/{}'.format(i, len(valid_addrs)))\n",
    "    addr = valid_addrs[i]\n",
    "    img = Image.open(addr)\n",
    "    img = np.array(img)\n",
    "    valid_storage.append(img)\n",
    "    # print(np.array(img))\n",
    "# print(valid_storage)\n",
    "# Test Images\n",
    "for i in range(len(test_addrs)):\n",
    "    if i % 20 == 0 and i > 1:\n",
    "        print('Test data: {}/{}'.format(i, len(test_addrs)))\n",
    "    addr = test_addrs[i]\n",
    "    img = Image.open(addr)\n",
    "    img = np.array(img)\n",
    "    test_storage.append(img)\n",
    "    # print(np.array(img))\n",
    "# print(test_storage)"
   ]
  },
  {
   "cell_type": "code",
   "execution_count": 5,
   "metadata": {},
   "outputs": [],
   "source": [
    "# Combine data and labels\n",
    "train_set = list(zip(train_storage, train_labels))\n",
    "valid_set = list(zip(valid_storage, valid_labels))\n",
    "test_set = list(zip(test_storage, test_labels))"
   ]
  },
  {
   "cell_type": "code",
   "execution_count": 6,
   "metadata": {
    "scrolled": true
   },
   "outputs": [
    {
     "name": "stdout",
     "output_type": "stream",
     "text": [
      "Calculated the means of the images in each class\n"
     ]
    }
   ],
   "source": [
    "# Linear Discriminant Analysis\n",
    "from collections import Counter\n",
    "# Converting images to a one-dimensional vector\n",
    "train_1d = [t.flatten() for t in train_storage]\n",
    "# Calculate the mean of images in each class\n",
    "label_dict = Counter(train_labels)\n",
    "mean = {}\n",
    "for idx, t in enumerate(train_1d):\n",
    "    lab = train_labels[idx]\n",
    "    if lab not in mean:\n",
    "        mean[lab] = t / label_dict[lab]\n",
    "    else:\n",
    "        mean[lab] = (mean[lab] + t) / label_dict[lab]\n",
    "print('Calculated the means of the images in each class')\n",
    "# print(mean)"
   ]
  },
  {
   "cell_type": "code",
   "execution_count": 7,
   "metadata": {},
   "outputs": [
    {
     "name": "stdout",
     "output_type": "stream",
     "text": [
      "Calculated the in class scatter matrix for each class\n",
      "{'s29': 388245548.9160105, 's2': 598425111.04867947, 's14': 583553195.49854887, 's21': 450803834.58220744, 's26': 685168759.21971214, 's17': 624832040.10032117, 's5': 714126483.07587993, 's27': 681754118.80448294, 's23': 583715490.14426565, 's40': 677241502.54167747, 's35': 648887292.50979185, 's8': 709957514.64610791, 's24': 526439369.17805511, 's12': 695101757.29735315, 's6': 791895644.56694305, 's3': 619378196.76219952, 's15': 580710908.16919971, 's16': 683861467.50671077, 's39': 325505184.16210073, 's28': 616985876.0420922, 's1': 874438268.96342409, 's10': 552610063.33652306, 's11': 583796877.24898362, 's7': 606679142.56480002, 's36': 621123519.72187352, 's33': 402072065.9660275, 's32': 760535141.72642589, 's34': 463957827.02609497, 's4': 657534134.14190555, 's9': 591915408.33705008, 's25': 695449938.60140038, 's22': 344969931.25670362, 's37': 579431096.86007905, 's18': 801200167.01752949, 's31': 549512727.98001814, 's19': 707259945.00518131, 's20': 481607168.93487787, 's30': 477848335.66464055, 's38': 577861645.29465616, 's13': 745659946.59208751}\n"
     ]
    }
   ],
   "source": [
    "# Calculate in class scatter matrix\n",
    "S = {}\n",
    "for idx, t in enumerate(train_1d):\n",
    "    lab = train_labels[idx]\n",
    "    if lab not in S:\n",
    "        S[lab] = np.dot(np.transpose(t - mean[lab]), (t - mean[lab]))\n",
    "    else:\n",
    "        S[lab] += np.dot(np.transpose(t - mean[lab]), (t - mean[lab]))\n",
    "print('Calculated the in class scatter matrix for each class')\n",
    "print(S)"
   ]
  },
  {
   "cell_type": "code",
   "execution_count": 8,
   "metadata": {},
   "outputs": [
    {
     "name": "stdout",
     "output_type": "stream",
     "text": [
      "[ 80.34171382  79.14471879  78.05304784 ...,  33.88873885  36.93098422\n",
      "  37.10562414] [ 80.34171382  79.14471879  78.05304784 ...,  33.88873885  36.93098422\n",
      "  37.10562414] {'s29': 54512997.831187785}\n",
      "[101 100  99 ...,  49  52  52] [ 20.65828618  20.85528121  20.94695216 ...,  15.11126115  15.06901578\n",
      "  14.89437586] {'s29': 54512997.831187785}\n"
     ]
    }
   ],
   "source": [
    "S = {}\n",
    "P = {}\n",
    "lab = 's29'\n",
    "S[lab] = np.matmul((train_1d[0] - mean[lab]), np.transpose(train_1d[0] - mean[lab]))\n",
    "tr = np.transpose()\n",
    "print(np.transpose(), (train_1d[0] - mean[lab]), S)\n",
    "P[lab] = np.dot((train_1d[0] - mean[lab]), (train_1d[0] - mean[lab]))\n",
    "print(train_1d[0], mean[lab], P)\n",
    "# # Create data matrix\n",
    "# data_matrix = np.transpose(train_center)\n",
    "# # print(np.transpose(train_center))\n",
    "# # Create covariance matrix\n",
    "# covariance = np.dot(data_matrix, np.transpose(data_matrix))\n",
    "# # Check for symmetricity\n",
    "# if(covariance.all() == np.transpose(covariance).all()):\n",
    "#     print('Symmetric')"
   ]
  },
  {
   "cell_type": "code",
   "execution_count": null,
   "metadata": {},
   "outputs": [],
   "source": []
  }
 ],
 "metadata": {
  "kernelspec": {
   "display_name": "Python 3",
   "language": "python",
   "name": "python3"
  },
  "language_info": {
   "codemirror_mode": {
    "name": "ipython",
    "version": 3
   },
   "file_extension": ".py",
   "mimetype": "text/x-python",
   "name": "python",
   "nbconvert_exporter": "python",
   "pygments_lexer": "ipython3",
   "version": "3.6.5"
  }
 },
 "nbformat": 4,
 "nbformat_minor": 2
}
