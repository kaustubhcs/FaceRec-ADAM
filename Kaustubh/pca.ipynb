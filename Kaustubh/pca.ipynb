{
 "cells": [
  {
   "cell_type": "code",
   "execution_count": 1,
   "metadata": {},
   "outputs": [
    {
     "name": "stdout",
     "output_type": "stream",
     "text": [
      "PPM (92, 112) L\n"
     ]
    },
    {
     "data": {
      "image/png": "[encoded data removed]",
      "text/plain": [
       "<PIL.PpmImagePlugin.PpmImageFile image mode=L size=92x112 at 0x7FD9B4584CF8>"
      ]
     },
     "metadata": {},
     "output_type": "display_data"
    }
   ],
   "source": [
    "# Loading and displaying an image\n",
    "from PIL import Image\n",
    "img = Image.open('/home/dvveera/db/orl/s1/1.pgm')\n",
    "print(img.format, img.size, img.mode)\n",
    "display(img)"
   ]
  },
  {
   "cell_type": "code",
   "execution_count": 2,
   "metadata": {},
   "outputs": [
    {
     "name": "stdout",
     "output_type": "stream",
     "text": [
      "Separated Training, Validation and Test Data\n"
     ]
    }
   ],
   "source": [
    "# Creating training, validation and test datasets\n",
    "import os\n",
    "import shutil\n",
    "\n",
    "def copy_data(dir_s, fname):\n",
    "    os.chdir(dir_s + '/' + fname)\n",
    "    dir_train = dir_s + '/train/' + fname\n",
    "    dir_valid = dir_s + '/valid/' + fname\n",
    "    dir_test = dir_s + '/test/' + fname\n",
    "    if not os.path.exists(dir_train):\n",
    "        os.makedirs(dir_train)\n",
    "    if not os.path.exists(dir_valid):\n",
    "        os.makedirs(dir_valid)\n",
    "    if not os.path.exists(dir_test):\n",
    "        os.makedirs(dir_test)\n",
    "    i = 1\n",
    "    for filename in os.listdir(dir_s + '/' + fname):\n",
    "        if i <= 6:\n",
    "            shutil.copy(dir_s + '/' + fname + '/' + str(i) + '.pgm', dir_train)\n",
    "        elif i <= 8:\n",
    "            shutil.copy(dir_s + '/' + fname + '/' + str(i) + '.pgm', dir_valid)\n",
    "        else:\n",
    "            shutil.copy(dir_s + '/' + fname + '/' + str(i) + '.pgm', dir_test)\n",
    "        i = i + 1\n",
    "\n",
    "dir_src = '/home/dvveera/db/orl'\n",
    "os.chdir(dir_src)\n",
    "for filename in os.listdir(dir_src):\n",
    "    if filename.startswith('s'):\n",
    "        copy_data(dir_src, filename)\n",
    "print('Separated Training, Validation and Test Data')"
   ]
  },
  {
   "cell_type": "code",
   "execution_count": 3,
   "metadata": {},
   "outputs": [
    {
     "name": "stdout",
     "output_type": "stream",
     "text": [
      "Assigned Labels to Training, Validation and Test Data\n"
     ]
    }
   ],
   "source": [
    "# Assign Labels\n",
    "def assign_addr_label(path):\n",
    "    dirs = os.listdir(path)\n",
    "    addrs = []\n",
    "    labels = []\n",
    "    for d in dirs:\n",
    "        os.chdir(path + '/' + d)\n",
    "        addr = glob.glob(path + '/' + d + '/' + '*')\n",
    "        label = [d for i in range(len(addr))]\n",
    "        addrs.extend(addr)\n",
    "        labels.extend(label)\n",
    "    return list(zip(addrs, labels))\n",
    "\n",
    "import glob\n",
    "train_path = '/home/dvveera/db/orl/train'\n",
    "train_data = assign_addr_label(train_path)\n",
    "train_addrs, train_labels = zip(*train_data)\n",
    "valid_path = '/home/dvveera/db/orl/valid'\n",
    "valid_data = assign_addr_label(valid_path)\n",
    "valid_addrs, valid_labels = zip(*valid_data)\n",
    "test_path = '/home/dvveera/db/orl/test'\n",
    "test_data = assign_addr_label(test_path)\n",
    "test_addrs, test_labels = zip(*test_data)\n",
    "print('Assigned Labels to Training, Validation and Test Data')"
   ]
  },
  {
   "cell_type": "code",
   "execution_count": 4,
   "metadata": {},
   "outputs": [
    {
     "name": "stdout",
     "output_type": "stream",
     "text": [
      "Train data: 20/240\n",
      "Train data: 40/240\n",
      "Train data: 60/240\n",
      "Train data: 80/240\n",
      "Train data: 100/240\n",
      "Train data: 120/240\n",
      "Train data: 140/240\n",
      "Train data: 160/240\n",
      "Train data: 180/240\n",
      "Train data: 200/240\n",
      "Train data: 220/240\n",
      "Valid data: 20/80\n",
      "Valid data: 40/80\n",
      "Valid data: 60/80\n",
      "Test data: 20/80\n",
      "Test data: 40/80\n",
      "Test data: 60/80\n"
     ]
    }
   ],
   "source": [
    "# Load images and save them\n",
    "import numpy as np\n",
    "train_storage = []\n",
    "valid_storage = []\n",
    "test_storage = []\n",
    "mean_storage = []\n",
    "# Training Images\n",
    "for i in range(len(train_addrs)):\n",
    "    if i % 20 == 0 and i > 1:\n",
    "        print('Train data: {}/{}'.format(i, len(train_addrs)))\n",
    "    addr = train_addrs[i]\n",
    "    img = Image.open(addr)\n",
    "    img = np.array(img)\n",
    "    train_storage.append(img)\n",
    "    # print(np.array(img))\n",
    "    mean_storage.append(np.sum(img) / float(len(train_labels)))\n",
    "# print(train_storage)\n",
    "# Validation Images\n",
    "for i in range(len(valid_addrs)):\n",
    "    if i % 20 == 0 and i > 1:\n",
    "        print('Valid data: {}/{}'.format(i, len(valid_addrs)))\n",
    "    addr = valid_addrs[i]\n",
    "    img = Image.open(addr)\n",
    "    img = np.array(img)\n",
    "    valid_storage.append(img)\n",
    "    # print(np.array(img))\n",
    "# print(valid_storage)\n",
    "# Test Images\n",
    "for i in range(len(test_addrs)):\n",
    "    if i % 20 == 0 and i > 1:\n",
    "        print('Test data: {}/{}'.format(i, len(test_addrs)))\n",
    "    addr = test_addrs[i]\n",
    "    img = Image.open(addr)\n",
    "    img = np.array(img)\n",
    "    test_storage.append(img)\n",
    "    # print(np.array(img))\n",
    "# print(test_storage)"
   ]
  },
  {
   "cell_type": "code",
   "execution_count": 5,
   "metadata": {},
   "outputs": [],
   "source": [
    "# Combine data and labels\n",
    "train_set = list(zip(train_storage, train_labels))\n",
    "valid_set = list(zip(valid_storage, valid_labels))\n",
    "test_set = list(zip(test_storage, test_labels))"
   ]
  },
  {
   "cell_type": "code",
   "execution_count": 6,
   "metadata": {},
   "outputs": [
    {
     "name": "stdout",
     "output_type": "stream",
     "text": [
      "Symmetric\n"
     ]
    }
   ],
   "source": [
    "# Principal Component Analysis\n",
    "# Converting images to a one-dimensional vector\n",
    "train_1d = [t.flatten() for t in train_storage]\n",
    "# Calculate the mean image\n",
    "mean = np.sum(train_1d, axis = 0) / len(train_1d)\n",
    "# print(mean)\n",
    "# Mean-centering the images\n",
    "train_center = [t - mean for t in train_1d]\n",
    "# print(train_center)\n",
    "# Create data matrix\n",
    "data_matrix = np.transpose(train_center)\n",
    "# print(np.transpose(train_center))\n",
    "# Create covariance matrix\n",
    "covariance = np.dot(data_matrix, np.transpose(data_matrix))\n",
    "# Check for symmetricity\n",
    "if(covariance.all() == np.transpose(covariance).all()):\n",
    "    print('Symmetric')"
   ]
  },
  {
   "cell_type": "code",
   "execution_count": 7,
   "metadata": {},
   "outputs": [],
   "source": [
    "# Compute eigenvalues and eigenvectors of covariance matrix\n",
    "eig_values, eig_vectors = np.linalg.eig(covariance)\n",
    "# print(eig_values)\n",
    "eig = list(zip(eig_values, np.transpose(eig_vectors)))"
   ]
  },
  {
   "cell_type": "code",
   "execution_count": 8,
   "metadata": {},
   "outputs": [
    {
     "name": "stdout",
     "output_type": "stream",
     "text": [
      "Sorted eigen values and eigen vectors from high to low\n"
     ]
    }
   ],
   "source": [
    "# Sort eigenvalues and eigenvectors\n",
    "sorted(eig, key=lambda x: x[0], reverse = True)\n",
    "print('Sorted eigen values and eigen vectors from high to low')"
   ]
  },
  {
   "cell_type": "code",
   "execution_count": 9,
   "metadata": {},
   "outputs": [],
   "source": [
    "# Remove close to zero eigen values and their corresponding eigen vectors\n",
    "eig_values, eig_vectors = zip(*eig)\n",
    "temp_values = []\n",
    "temp_vectors = []\n",
    "for e in eig_values:\n",
    "    if e.real < 0.000001:\n",
    "        pass\n",
    "    else:\n",
    "        temp_values.append(e)\n",
    "        idx = eig_values.index(e)\n",
    "        temp_vectors.append(eig_vectors[idx])\n",
    "eig_values, eig_vectors = temp_values, temp_vectors"
   ]
  },
  {
   "cell_type": "code",
   "execution_count": 10,
   "metadata": {},
   "outputs": [],
   "source": [
    "# Create projection matrix\n",
    "V = np.transpose(eig_vectors)"
   ]
  },
  {
   "cell_type": "code",
   "execution_count": 11,
   "metadata": {},
   "outputs": [],
   "source": [
    "# Project training images into subspace\n",
    "proj_data_matrix = np.dot(eig_vectors, data_matrix)"
   ]
  },
  {
   "cell_type": "code",
   "execution_count": 12,
   "metadata": {},
   "outputs": [],
   "source": [
    "# Identify test images\n",
    "# Test images are mean-centered\n",
    "valid_1d = [t.flatten() for t in valid_storage]\n",
    "# Mean-center the images\n",
    "valid_center = [t - mean for t in valid_1d]\n",
    "# Create data matrix\n",
    "valid_data_matrix = np.transpose(valid_center)\n",
    "# Project test images into the same subspace as training images\n",
    "proj_valid_matrix = np.dot(eig_vectors, valid_data_matrix)"
   ]
  },
  {
   "cell_type": "code",
   "execution_count": 13,
   "metadata": {},
   "outputs": [],
   "source": [
    "# Calculate L2 norms\n",
    "tr1 = np.transpose(proj_valid_matrix)\n",
    "tr2 = np.transpose(proj_data_matrix)\n",
    "l2 = []\n",
    "for a in tr1:\n",
    "    l1 = [np.linalg.norm(a - b) for b in tr2]\n",
    "    l2.append(l1)"
   ]
  },
  {
   "cell_type": "code",
   "execution_count": 14,
   "metadata": {},
   "outputs": [],
   "source": [
    "# Find the index of the training image that matches closely with the test image\n",
    "idx = [l.index(min(l)) for l in l2]"
   ]
  },
  {
   "cell_type": "code",
   "execution_count": 15,
   "metadata": {},
   "outputs": [],
   "source": [
    "# Find the label for the test images\n",
    "out = []\n",
    "for i in idx:\n",
    "    out.append(train_labels[i])\n",
    "# print(list(zip(out, idx)))\n",
    "# print(list(zip(valid_labels, idx)))"
   ]
  },
  {
   "cell_type": "code",
   "execution_count": 16,
   "metadata": {},
   "outputs": [
    {
     "name": "stdout",
     "output_type": "stream",
     "text": [
      "Accuracy(%): 93.75\n"
     ]
    }
   ],
   "source": [
    "# Find the accuracy\n",
    "correct = 0\n",
    "for i in range(len(out)):\n",
    "    if out[i] == valid_labels[i]:\n",
    "        correct += 1\n",
    "accuracy = correct * 100 / len(out)\n",
    "print('Accuracy(%): ' + str(accuracy))"
   ]
  },
  {
   "cell_type": "code",
   "execution_count": 17,
   "metadata": {},
   "outputs": [],
   "source": [
    "# Identify test images\n",
    "# Test images are mean-centered\n",
    "test_1d = [t.flatten() for t in test_storage]\n",
    "# test_1d = [t.flatten() for t in test_storage]\n",
    "test_center = [t - mean for t in test_1d]\n",
    "# Create data matrix\n",
    "test_data_matrix = np.transpose(test_center)\n",
    "# Project test images into the same subspace as training images\n",
    "proj_test_matrix = np.dot(eig_vectors, test_data_matrix)"
   ]
  },
  {
   "cell_type": "code",
   "execution_count": 18,
   "metadata": {},
   "outputs": [],
   "source": [
    "# Calculate L2 norms\n",
    "tr1 = np.transpose(proj_test_matrix)\n",
    "tr2 = np.transpose(proj_data_matrix)\n",
    "l2 = []\n",
    "for a in tr1:\n",
    "    l1 = [np.linalg.norm(a - b) for b in tr2]\n",
    "    l2.append(l1)"
   ]
  },
  {
   "cell_type": "code",
   "execution_count": 19,
   "metadata": {},
   "outputs": [],
   "source": [
    "# Find the index of the training image that matches closely with the test image\n",
    "idx = [l.index(min(l)) for l in l2]"
   ]
  },
  {
   "cell_type": "code",
   "execution_count": 20,
   "metadata": {},
   "outputs": [],
   "source": [
    "# Find the label for the test images\n",
    "out = []\n",
    "for i in idx:\n",
    "    out.append(train_labels[i])"
   ]
  },
  {
   "cell_type": "code",
   "execution_count": 21,
   "metadata": {},
   "outputs": [
    {
     "name": "stdout",
     "output_type": "stream",
     "text": [
      "Accuracy(%): 93.75\n"
     ]
    }
   ],
   "source": [
    "# Find the accuracy\n",
    "correct = 0\n",
    "for i in range(len(out)):\n",
    "    if out[i] == test_labels[i]:\n",
    "        correct += 1\n",
    "accuracy = correct * 100 / len(out)\n",
    "print('Accuracy(%): ' + str(accuracy))"
   ]
  },
  {
   "cell_type": "code",
   "execution_count": 2,
   "metadata": {},
   "outputs": [
    {
     "ename": "NameError",
     "evalue": "name 'out' is not defined",
     "output_type": "error",
     "traceback": [
      "\u001b[0;31m---------------------------------------------------------------------------\u001b[0m",
      "\u001b[0;31mNameError\u001b[0m                                 Traceback (most recent call last)",
      "\u001b[0;32m<ipython-input-2-c8201e2055e5>\u001b[0m in \u001b[0;36m<module>\u001b[0;34m()\u001b[0m\n\u001b[1;32m      1\u001b[0m \u001b[0;31m# Print images (true / predicted)\u001b[0m\u001b[0;34m\u001b[0m\u001b[0;34m\u001b[0m\u001b[0m\n\u001b[1;32m      2\u001b[0m \u001b[0mj\u001b[0m \u001b[0;34m=\u001b[0m \u001b[0;36m0\u001b[0m\u001b[0;34m\u001b[0m\u001b[0m\n\u001b[0;32m----> 3\u001b[0;31m \u001b[0;32mfor\u001b[0m \u001b[0mi\u001b[0m \u001b[0;32min\u001b[0m \u001b[0mrange\u001b[0m\u001b[0;34m(\u001b[0m\u001b[0mlen\u001b[0m\u001b[0;34m(\u001b[0m\u001b[0mout\u001b[0m\u001b[0;34m)\u001b[0m\u001b[0;34m)\u001b[0m\u001b[0;34m:\u001b[0m\u001b[0;34m\u001b[0m\u001b[0m\n\u001b[0m\u001b[1;32m      4\u001b[0m     \u001b[0mdis1\u001b[0m \u001b[0;34m=\u001b[0m \u001b[0mImage\u001b[0m\u001b[0;34m.\u001b[0m\u001b[0mfromarray\u001b[0m\u001b[0;34m(\u001b[0m\u001b[0mtrain_storage\u001b[0m\u001b[0;34m[\u001b[0m\u001b[0midx\u001b[0m\u001b[0;34m[\u001b[0m\u001b[0mi\u001b[0m\u001b[0;34m]\u001b[0m\u001b[0;34m]\u001b[0m\u001b[0;34m)\u001b[0m\u001b[0;34m\u001b[0m\u001b[0m\n\u001b[1;32m      5\u001b[0m     \u001b[0mdisplay\u001b[0m\u001b[0;34m(\u001b[0m\u001b[0mdis1\u001b[0m\u001b[0;34m)\u001b[0m\u001b[0;34m\u001b[0m\u001b[0m\n",
      "\u001b[0;31mNameError\u001b[0m: name 'out' is not defined"
     ]
    }
   ],
   "source": [
    "# Print images (true / predicted)\n",
    "j = 0\n",
    "for i in range(len(out)):\n",
    "    dis1 = Image.fromarray(train_storage[idx[i]])\n",
    "    display(dis1)\n",
    "    print('Predicted:' + str(out[i]))\n",
    "    dis2 = Image.fromarray(test_storage[j])\n",
    "    display(dis2)\n",
    "    print('True:' + str(test_labels[j]))\n",
    "    print('-----------------------------------')\n",
    "    j += 1\n",
    "# print(list(zip(out, idx)))\n",
    "# print(list(zip(test_labels, idx)))"
   ]
  },
  {
   "cell_type": "code",
   "execution_count": null,
   "metadata": {},
   "outputs": [],
   "source": [
    "# Write PCA output vectors to file\n",
    "f = open('/home/dvveera/pca_train_data_with_labels.txt', 'w+')\n",
    "f.write('Training data\\n')\n",
    "train_file = zip(np.transpose(proj_data_matrix), train_labels)\n",
    "for i in train_file:\n",
    "    f.write(str(i))\n",
    "f = open('/home/dvveera/pca_valid_data_with_labels.txt', 'w+')\n",
    "f.write('Validation data\\n')\n",
    "valid_file = zip(np.transpose(proj_valid_matrix), valid_labels)\n",
    "for i in valid_file:\n",
    "    f.write(str(i))\n",
    "f = open('/home/dvveera/pca_test_data_with_labels.txt', 'w+')\n",
    "f.write('\\nTest data\\n')\n",
    "test_file = zip(np.transpose(proj_test_matrix), test_labels)\n",
    "for i in test_file:\n",
    "    f.write(str(i))"
   ]
  }
 ],
 "metadata": {
  "kernelspec": {
   "display_name": "Python 3",
   "language": "python",
   "name": "python3"
  },
  "language_info": {
   "codemirror_mode": {
    "name": "ipython",
    "version": 3
   },
   "file_extension": ".py",
   "mimetype": "text/x-python",
   "name": "python",
   "nbconvert_exporter": "python",
   "pygments_lexer": "ipython3",
   "version": "3.6.5"
  }
 },
 "nbformat": 4,
 "nbformat_minor": 2
}
