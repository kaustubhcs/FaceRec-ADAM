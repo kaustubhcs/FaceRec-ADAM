{
 "cells": [
  {
   "cell_type": "markdown",
   "metadata": {},
   "source": [
    "# SVM Testing Notebook\n"
   ]
  },
  {
   "cell_type": "code",
   "execution_count": 36,
   "metadata": {},
   "outputs": [],
   "source": [
    "import matplotlib.pyplot as plt\n",
    "import numpy as np\n",
    "\n",
    "from sklearn import datasets\n",
    "from sklearn import svm\n"
   ]
  },
  {
   "cell_type": "code",
   "execution_count": 37,
   "metadata": {},
   "outputs": [],
   "source": [
    "# Import Data\n",
    "\n",
    "digits = datasets.load_digits()\n"
   ]
  },
  {
   "cell_type": "code",
   "execution_count": 38,
   "metadata": {},
   "outputs": [
    {
     "name": "stdout",
     "output_type": "stream",
     "text": [
      "1797\n"
     ]
    }
   ],
   "source": [
    "# Test data Printing\n",
    "\n",
    "#print (digits.data)\n",
    "print (len(digits.target))\n"
   ]
  },
  {
   "cell_type": "code",
   "execution_count": 82,
   "metadata": {},
   "outputs": [
    {
     "name": "stdout",
     "output_type": "stream",
     "text": [
      "Prediction:  [8]\n"
     ]
    }
   ],
   "source": [
    "clf = svm.SVC(gamma=0.0001, C=100)\n",
    "\n",
    "x,y = digits.data[:-10],digits.target[:-10],\n",
    "\n",
    "clf.fit(x,y)\n",
    "# dat_predict = digits.data[-1]\n",
    "# dat_predict.reshape(-1,1)\n",
    "print ('Prediction: ', clf.predict(np.reshape(digits.data[-1], (1,-1))))"
   ]
  },
  {
   "cell_type": "code",
   "execution_count": 40,
   "metadata": {},
   "outputs": [
    {
     "name": "stdout",
     "output_type": "stream",
     "text": [
      "[[  0.   0.   5. ...,   0.   0.   0.]\n",
      " [  0.   0.   0. ...,  10.   0.   0.]\n",
      " [  0.   0.   0. ...,  16.   9.   0.]\n",
      " ..., \n",
      " [  0.   0.   1. ...,   4.   0.   0.]\n",
      " [  0.   1.  10. ...,   0.   0.   0.]\n",
      " [  0.   0.   4. ...,   9.   0.   0.]]\n"
     ]
    }
   ],
   "source": [
    "print(digits.data[:-10])"
   ]
  },
  {
   "cell_type": "code",
   "execution_count": 78,
   "metadata": {},
   "outputs": [
    {
     "name": "stdout",
     "output_type": "stream",
     "text": [
      "Pre Temp:  (64,)\n",
      "Temp Shape:  (64, 1)\n",
      "Post Temp:  (64, 1)\n"
     ]
    }
   ],
   "source": [
    "ktb = np.array([[1,2,3], [4,5,6]])\n",
    "# type(digits.data[-1])\n",
    "# digits.data[2].shape\n",
    "temp = digits.data[-1]\n",
    "print ('Pre Temp: ',temp.shape)\n",
    "\n",
    "temp = np.reshape(temp,(64,-1))\n",
    "\n",
    "print ('Temp Shape: ', temp.shape)\n",
    "print ('Post Temp: ',temp.shape)"
   ]
  },
  {
   "cell_type": "code",
   "execution_count": null,
   "metadata": {},
   "outputs": [],
   "source": []
  },
  {
   "cell_type": "code",
   "execution_count": null,
   "metadata": {},
   "outputs": [],
   "source": []
  }
 ],
 "metadata": {
  "kernelspec": {
   "display_name": "Python 3",
   "language": "python",
   "name": "python3"
  },
  "language_info": {
   "codemirror_mode": {
    "name": "ipython",
    "version": 3
   },
   "file_extension": ".py",
   "mimetype": "text/x-python",
   "name": "python",
   "nbconvert_exporter": "python",
   "pygments_lexer": "ipython3",
   "version": "3.6.5"
  }
 },
 "nbformat": 4,
 "nbformat_minor": 2
}
