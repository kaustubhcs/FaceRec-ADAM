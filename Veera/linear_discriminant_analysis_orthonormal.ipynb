{
 "cells": [
  {
   "cell_type": "code",
   "execution_count": 1,
   "metadata": {},
   "outputs": [],
   "source": [
    "# Loading and displaying an image\n",
    "# from PIL import Image\n",
    "# img = Image.open('/home/dvveera/db/orl/s1/1.pgm')\n",
    "# print(img.format, img.size, img.mode)\n",
    "# display(img)"
   ]
  },
  {
   "cell_type": "code",
   "execution_count": 2,
   "metadata": {},
   "outputs": [
    {
     "name": "stdout",
     "output_type": "stream",
     "text": [
      "Assigned Labels to Training, Validation and Test Data\n",
      "Train data: 20/240\n",
      "Train data: 40/240\n",
      "Train data: 60/240\n",
      "Train data: 80/240\n",
      "Train data: 100/240\n",
      "Train data: 120/240\n",
      "Train data: 140/240\n",
      "Train data: 160/240\n",
      "Train data: 180/240\n",
      "Train data: 200/240\n",
      "Train data: 220/240\n",
      "Valid data: 20/80\n",
      "Valid data: 40/80\n",
      "Valid data: 60/80\n",
      "Test data: 20/80\n",
      "Test data: 40/80\n",
      "Test data: 60/80\n"
     ]
    }
   ],
   "source": [
    "# Load the dataset\n",
    "import load_dataset\n",
    "import numpy as np\n",
    "from PIL import Image\n",
    "\n",
    "dir_src = '/home/dvveera/dvveera_hdd2tb/orl'\n",
    "data_label = load_dataset.load_data_label(dir_src)\n",
    "\n",
    "# Training, validation and test data with labels\n",
    "# data_label = list(train, valid, test, mean_train)\n",
    "train_storage, train_labels = zip(*data_label[0])\n",
    "valid_storage, valid_labels = zip(*data_label[1])\n",
    "test_storage, test_labels = zip(*data_label[2])\n",
    "mean_storage = data_label[3]"
   ]
  },
  {
   "cell_type": "code",
   "execution_count": 3,
   "metadata": {},
   "outputs": [
    {
     "name": "stdout",
     "output_type": "stream",
     "text": [
      "Calculated the means of the images in each class and the total mean of all images\n",
      "CPU times: user 6 ms, sys: 4.26 ms, total: 10.3 ms\n",
      "Wall time: 9.66 ms\n"
     ]
    }
   ],
   "source": [
    "%%time\n",
    "# Linear Discriminant Analysis\n",
    "from collections import Counter\n",
    "# Converting images to a one-dimensional vector\n",
    "train_1d = [t.flatten() for t in train_storage]\n",
    "# Calculate the mean of images in each class\n",
    "label_dict = Counter(train_labels)\n",
    "mean = {}\n",
    "for idx, t in enumerate(train_1d):\n",
    "    lab = train_labels[idx]\n",
    "    if lab not in mean:\n",
    "        mean[lab] = t / label_dict[lab]\n",
    "    else:\n",
    "        mean[lab] += t / label_dict[lab]\n",
    "print('Calculated the means of the images in each class and the total mean of all images')\n",
    "# print(mean)\n",
    "# Calculate the mean of all images\n",
    "mean_all = np.sum(train_1d, axis = 0) / len(train_1d)\n",
    "# print(mean_all)"
   ]
  },
  {
   "cell_type": "code",
   "execution_count": 4,
   "metadata": {},
   "outputs": [
    {
     "name": "stdout",
     "output_type": "stream",
     "text": [
      "Centered the images in each class\n",
      "CPU times: user 4.23 ms, sys: 4.15 ms, total: 8.38 ms\n",
      "Wall time: 7.74 ms\n"
     ]
    }
   ],
   "source": [
    "%%time\n",
    "# Mean-centering the images in each class\n",
    "train_center = []\n",
    "for idx, t in enumerate(train_1d):\n",
    "    lab = train_labels[idx]\n",
    "    train_center.append(t - mean[lab])\n",
    "# print(train_center)\n",
    "print('Centered the images in each class')"
   ]
  },
  {
   "cell_type": "code",
   "execution_count": 5,
   "metadata": {},
   "outputs": [
    {
     "name": "stdout",
     "output_type": "stream",
     "text": [
      "Centered the class means\n",
      "CPU times: user 2.29 ms, sys: 0 ns, total: 2.29 ms\n",
      "Wall time: 1.68 ms\n"
     ]
    }
   ],
   "source": [
    "%%time\n",
    "# Center the class means\n",
    "mean_center = []\n",
    "for idx, m in enumerate(mean):\n",
    "    mean_center.append(mean[m] - mean_all)\n",
    "# print(mean_center)\n",
    "print('Centered the class means')"
   ]
  },
  {
   "cell_type": "code",
   "execution_count": 6,
   "metadata": {},
   "outputs": [
    {
     "name": "stdout",
     "output_type": "stream",
     "text": [
      "Created the data matrix\n",
      "CPU times: user 153 µs, sys: 7.48 ms, total: 7.64 ms\n",
      "Wall time: 6.93 ms\n"
     ]
    }
   ],
   "source": [
    "%%time\n",
    "# Create data matrix\n",
    "data_matrix = np.transpose(train_center)\n",
    "# print(data_matrix)\n",
    "print('Created the data matrix')"
   ]
  },
  {
   "cell_type": "code",
   "execution_count": null,
   "metadata": {},
   "outputs": [],
   "source": [
    "# Find orthonormal basis for the data matrix\n",
    "# U = np.linalg.qr(data_matrix)\n",
    "# print(U)"
   ]
  },
  {
   "cell_type": "code",
   "execution_count": 7,
   "metadata": {},
   "outputs": [
    {
     "name": "stdout",
     "output_type": "stream",
     "text": [
      "CPU times: user 3min 39s, sys: 1.19 s, total: 3min 40s\n",
      "Wall time: 55.6 s\n"
     ]
    }
   ],
   "source": [
    "%%time\n",
    "# Find orthonormal basis for the data matrix\n",
    "# Create covariance matrix\n",
    "covariance = np.dot(data_matrix, np.transpose(data_matrix))\n",
    "# Compute eigenvalues and eigenvectors of covariance matrix\n",
    "eig_values, eig_vectors = np.linalg.eigh(covariance)\n",
    "# print(eig_values)"
   ]
  },
  {
   "cell_type": "code",
   "execution_count": 8,
   "metadata": {},
   "outputs": [
    {
     "name": "stdout",
     "output_type": "stream",
     "text": [
      "Projected centered images and centered means into the orthonormal basis\n",
      "CPU times: user 1.48 s, sys: 3.92 ms, total: 1.48 s\n",
      "Wall time: 376 ms\n"
     ]
    }
   ],
   "source": [
    "%%time\n",
    "# Project centered images into orthonormal basis\n",
    "proj_train_center = np.dot(np.transpose(eig_vectors), data_matrix)\n",
    "# Project centered means into orthonormal basis\n",
    "proj_mean_center = np.dot(np.transpose(eig_vectors), np.transpose(mean_center))\n",
    "print('Projected centered images and centered means into the orthonormal basis')\n",
    "eig_values_ortho = eig_values\n",
    "eig_vectors_ortho = eig_vectors"
   ]
  },
  {
   "cell_type": "code",
   "execution_count": 10,
   "metadata": {},
   "outputs": [
    {
     "name": "stdout",
     "output_type": "stream",
     "text": [
      "Calculated the within-class scatter matrix\n",
      "CPU times: user 36.1 s, sys: 39.2 s, total: 1min 15s\n",
      "Wall time: 1min 15s\n"
     ]
    }
   ],
   "source": [
    "%%time\n",
    "# Calculate within class scatter matrix\n",
    "Sw = []\n",
    "for idx, t in enumerate(np.transpose(proj_train_center)):\n",
    "    if idx == 0:\n",
    "        Sw = np.outer(t, t)\n",
    "    else:\n",
    "        Sw += np.outer(t, t)\n",
    "print('Calculated the within-class scatter matrix')\n",
    "#print(Sw)"
   ]
  },
  {
   "cell_type": "code",
   "execution_count": 11,
   "metadata": {},
   "outputs": [
    {
     "name": "stdout",
     "output_type": "stream",
     "text": [
      "Calculated the between-class scatter matrix\n",
      "CPU times: user 9.28 s, sys: 12.9 s, total: 22.2 s\n",
      "Wall time: 22.2 s\n"
     ]
    }
   ],
   "source": [
    "%%time\n",
    "# Calculate between class scatter matrix\n",
    "Sb = []\n",
    "tr = np.transpose(proj_mean_center)\n",
    "for idx, m in enumerate(mean):\n",
    "    if idx == 0:\n",
    "        Sb = mean[m] * np.outer(tr[idx], tr[idx])\n",
    "    else:\n",
    "        Sb += mean[m] * np.outer(tr[idx], tr[idx])\n",
    "print('Calculated the between-class scatter matrix')\n",
    "#print(Sb)"
   ]
  },
  {
   "cell_type": "code",
   "execution_count": 12,
   "metadata": {},
   "outputs": [
    {
     "name": "stdout",
     "output_type": "stream",
     "text": [
      "CPU times: user 5min 23s, sys: 1.96 s, total: 5min 25s\n",
      "Wall time: 1min 21s\n"
     ]
    }
   ],
   "source": [
    "%%time\n",
    "# Compute the generalized eigen values and eigen vectors\n",
    "A = np.dot(np.linalg.inv(Sw), Sb)\n",
    "eig_values, eig_vectors = np.linalg.eigh(A)\n",
    "# print(eig_values)"
   ]
  },
  {
   "cell_type": "code",
   "execution_count": 13,
   "metadata": {},
   "outputs": [
    {
     "name": "stdout",
     "output_type": "stream",
     "text": [
      "Sorted eigen values and eigen vectors from high to low\n",
      "CPU times: user 3.1 ms, sys: 0 ns, total: 3.1 ms\n",
      "Wall time: 3 ms\n"
     ]
    }
   ],
   "source": [
    "%%time\n",
    "# Sort eigenvalues and eigenvectors\n",
    "eig = list(zip(eig_values, np.transpose(eig_vectors)))\n",
    "sorted(eig, key=lambda x: x[0], reverse = True)\n",
    "print('Sorted eigen values and eigen vectors from high to low')\n",
    "# print(eig)"
   ]
  },
  {
   "cell_type": "code",
   "execution_count": 14,
   "metadata": {},
   "outputs": [
    {
     "name": "stdout",
     "output_type": "stream",
     "text": [
      "Selected the first C - 1 eigenvectors\n",
      "CPU times: user 3.1 ms, sys: 0 ns, total: 3.1 ms\n",
      "Wall time: 2.67 ms\n"
     ]
    }
   ],
   "source": [
    "%%time\n",
    "# Select the first C - 1 eigen vectors\n",
    "new_eig = []\n",
    "for idx, e in enumerate(eig):\n",
    "    if idx < (len(label_dict) - 1):\n",
    "        new_eig.append(e)\n",
    "eig_values, eig_vectors = zip(*new_eig)\n",
    "print('Selected the first C - 1 eigenvectors')\n",
    "# print(new_eig)"
   ]
  },
  {
   "cell_type": "code",
   "execution_count": 15,
   "metadata": {},
   "outputs": [
    {
     "name": "stdout",
     "output_type": "stream",
     "text": [
      "CPU times: user 1.18 s, sys: 6.73 ms, total: 1.19 s\n",
      "Wall time: 305 ms\n"
     ]
    }
   ],
   "source": [
    "%%time\n",
    "# Project training images into orthonormal basis\n",
    "proj_data_ortho = np.dot(np.transpose(eig_vectors_ortho), np.transpose(train_1d))\n",
    "# Project the orthonormal projected images onto Fisher basis vectors\n",
    "proj_data_matrix = np.dot(eig_vectors, proj_data_ortho)"
   ]
  },
  {
   "cell_type": "code",
   "execution_count": 16,
   "metadata": {},
   "outputs": [
    {
     "name": "stdout",
     "output_type": "stream",
     "text": [
      "CPU times: user 521 ms, sys: 5.06 ms, total: 526 ms\n",
      "Wall time: 135 ms\n"
     ]
    }
   ],
   "source": [
    "%%time\n",
    "# Identify test images\n",
    "valid_1d = [t.flatten() for t in valid_storage]\n",
    "# Create data matrix\n",
    "valid_data_matrix = np.transpose(valid_1d)\n",
    "# Project test images into the same subspace as training images\n",
    "proj_valid_ortho = np.dot(np.transpose(eig_vectors_ortho), valid_data_matrix)\n",
    "proj_valid_matrix = np.dot(eig_vectors, proj_valid_ortho)"
   ]
  },
  {
   "cell_type": "code",
   "execution_count": 17,
   "metadata": {},
   "outputs": [
    {
     "name": "stdout",
     "output_type": "stream",
     "text": [
      "CPU times: user 83 ms, sys: 19.4 ms, total: 102 ms\n",
      "Wall time: 75 ms\n"
     ]
    }
   ],
   "source": [
    "%%time\n",
    "# Calculate L2 norms\n",
    "tr1 = np.transpose(proj_valid_matrix)\n",
    "tr2 = np.transpose(proj_data_matrix)\n",
    "l2 = []\n",
    "for a in tr1:\n",
    "    l1 = [np.linalg.norm(a - b) for b in tr2]\n",
    "    l2.append(l1)"
   ]
  },
  {
   "cell_type": "code",
   "execution_count": 18,
   "metadata": {},
   "outputs": [
    {
     "name": "stdout",
     "output_type": "stream",
     "text": [
      "CPU times: user 460 µs, sys: 69 µs, total: 529 µs\n",
      "Wall time: 531 µs\n"
     ]
    }
   ],
   "source": [
    "%%time\n",
    "# Find the index of the training image that matches closely with the test image\n",
    "idx = [l.index(min(l)) for l in l2]"
   ]
  },
  {
   "cell_type": "code",
   "execution_count": 19,
   "metadata": {},
   "outputs": [
    {
     "name": "stdout",
     "output_type": "stream",
     "text": [
      "CPU times: user 12 µs, sys: 0 ns, total: 12 µs\n",
      "Wall time: 13.6 µs\n"
     ]
    }
   ],
   "source": [
    "%%time\n",
    "# Find the label for the test images\n",
    "out = []\n",
    "for i in idx:\n",
    "    out.append(train_labels[i])\n",
    "# print(list(zip(out, idx)))\n",
    "# print(list(zip(valid_labels, idx)))"
   ]
  },
  {
   "cell_type": "code",
   "execution_count": 20,
   "metadata": {},
   "outputs": [
    {
     "name": "stdout",
     "output_type": "stream",
     "text": [
      "Accuracy(%): 90.0\n",
      "CPU times: user 68 µs, sys: 10 µs, total: 78 µs\n",
      "Wall time: 56.5 µs\n"
     ]
    }
   ],
   "source": [
    "%%time\n",
    "# Find the accuracy\n",
    "correct = 0\n",
    "for i in range(len(out)):\n",
    "    if out[i] == valid_labels[i]:\n",
    "        correct += 1\n",
    "accuracy = correct * 100 / len(out)\n",
    "print('Accuracy(%): ' + str(accuracy))"
   ]
  },
  {
   "cell_type": "code",
   "execution_count": null,
   "metadata": {},
   "outputs": [],
   "source": [
    "# Identify test images\n",
    "test_1d = [t.flatten() for t in test_storage]\n",
    "# Create data matrix\n",
    "test_data_matrix = np.transpose(test_1d)\n",
    "# Project test images into the same subspace as training images\n",
    "proj_test_ortho = np.dot(np.transpose(eig_vectors_ortho), test_data_matrix)\n",
    "proj_test_matrix = np.dot(eig_vectors, proj_test_ortho)"
   ]
  },
  {
   "cell_type": "code",
   "execution_count": null,
   "metadata": {},
   "outputs": [],
   "source": [
    "# Calculate L2 norms\n",
    "tr1 = np.transpose(proj_test_matrix)\n",
    "tr2 = np.transpose(proj_data_matrix)\n",
    "l2 = []\n",
    "for a in tr1:\n",
    "    l1 = [np.linalg.norm(a - b) for b in tr2]\n",
    "    l2.append(l1)"
   ]
  },
  {
   "cell_type": "code",
   "execution_count": null,
   "metadata": {},
   "outputs": [],
   "source": [
    "# Find the index of the training image that matches closely with the test image\n",
    "idx = [l.index(min(l)) for l in l2]"
   ]
  },
  {
   "cell_type": "code",
   "execution_count": null,
   "metadata": {},
   "outputs": [],
   "source": [
    "# Find the label for the test images\n",
    "out = []\n",
    "for i in idx:\n",
    "    out.append(train_labels[i])"
   ]
  },
  {
   "cell_type": "code",
   "execution_count": null,
   "metadata": {},
   "outputs": [],
   "source": [
    "# Find the accuracy\n",
    "correct = 0\n",
    "for i in range(len(out)):\n",
    "    if out[i] == test_labels[i]:\n",
    "        correct += 1\n",
    "accuracy = correct * 100 / len(out)\n",
    "print('Accuracy(%): ' + str(accuracy))"
   ]
  },
  {
   "cell_type": "code",
   "execution_count": null,
   "metadata": {},
   "outputs": [],
   "source": [
    "# Print images (true / predicted)\n",
    "j = 0\n",
    "for i in range(len(out)):\n",
    "    dis1 = Image.fromarray(train_storage[idx[i]])\n",
    "    display(dis1)\n",
    "    print('Predicted:' + str(out[i]))\n",
    "    dis2 = Image.fromarray(test_storage[j])\n",
    "    display(dis2)\n",
    "    print('True:' + str(test_labels[j]))\n",
    "    print('-----------------------------------')\n",
    "    j += 1\n",
    "# print(list(zip(out, idx)))\n",
    "# print(list(zip(test_labels, idx)))"
   ]
  }
 ],
 "metadata": {
  "kernelspec": {
   "display_name": "Python 3",
   "language": "python",
   "name": "python3"
  },
  "language_info": {
   "codemirror_mode": {
    "name": "ipython",
    "version": 3
   },
   "file_extension": ".py",
   "mimetype": "text/x-python",
   "name": "python",
   "nbconvert_exporter": "python",
   "pygments_lexer": "ipython3",
   "version": "3.6.5"
  }
 },
 "nbformat": 4,
 "nbformat_minor": 2
}
